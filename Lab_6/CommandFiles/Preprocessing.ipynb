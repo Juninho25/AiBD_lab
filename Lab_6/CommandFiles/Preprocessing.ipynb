{
 "cells": [
  {
   "cell_type": "markdown",
   "id": "1c6333fa",
   "metadata": {},
   "source": [
    "# Laboratorium 6 - Exploratory Data Analysis"
   ]
  },
  {
   "cell_type": "markdown",
   "id": "ca0b6a18",
   "metadata": {},
   "source": [
    "Zaimportowanie potrzebnych bibliotek"
   ]
  },
  {
   "cell_type": "code",
   "execution_count": 1,
   "id": "16f1baed",
   "metadata": {},
   "outputs": [],
   "source": [
    "import pandas as pd\n",
    "import numpy as np"
   ]
  },
  {
   "cell_type": "markdown",
   "id": "b240603b",
   "metadata": {},
   "source": [
    "## Działania na oryginalnym pliku"
   ]
  },
  {
   "cell_type": "code",
   "execution_count": 3,
   "id": "4d42aca2",
   "metadata": {},
   "outputs": [],
   "source": [
    "# Wczytanie oryginalnego pliku\n",
    "original = pd.read_csv(\"../OriginalData/1_KUJAWSKO-POMORSKIE.csv\")\n",
    "\n",
    "# Zmiana w kolumnie 'Płeć kupującego' - wartość bd. zostaje zastąpiona wartością NaN,\n",
    "# aby łatwiej było na tej kolumnie operować\n",
    "original['Płeć kupującego'].replace('bd.', np.nan, inplace=True)\n",
    "\n",
    "# Zmiana nazwy pierwszej kolumny z nic nie znaczącego Unnamed na ID\n",
    "original = original.rename(columns={\"Unnamed: 0\":\"ID\"})\n",
    "\n",
    "# Zapisanie odpowiednio przetworzonych danych do pliku\n",
    "original.to_csv('../AnalysisData/Kujawsko-Pomorskie.csv', index=False)"
   ]
  },
  {
   "cell_type": "code",
   "execution_count": null,
   "id": "2933524a",
   "metadata": {},
   "outputs": [],
   "source": []
  }
 ],
 "metadata": {
  "kernelspec": {
   "display_name": "Python 3",
   "language": "python",
   "name": "python3"
  },
  "language_info": {
   "codemirror_mode": {
    "name": "ipython",
    "version": 3
   },
   "file_extension": ".py",
   "mimetype": "text/x-python",
   "name": "python",
   "nbconvert_exporter": "python",
   "pygments_lexer": "ipython3",
   "version": "3.9.4"
  }
 },
 "nbformat": 4,
 "nbformat_minor": 5
}
