{
 "cells": [
  {
   "cell_type": "code",
   "execution_count": 1,
   "id": "82dfefb4",
   "metadata": {},
   "outputs": [],
   "source": [
    "import pandas as pd\n",
    "import matplotlib.pyplot as plt\n",
    "import numpy as np\n",
    "import io"
   ]
  },
  {
   "cell_type": "markdown",
   "id": "5144f091",
   "metadata": {},
   "source": [
    "## Wczytanie przetworzonego pliku oraz wyświetlenie jego początku"
   ]
  },
  {
   "cell_type": "code",
   "execution_count": 2,
   "id": "49a74b3d",
   "metadata": {},
   "outputs": [
    {
     "data": {
      "text/html": [
       "<div>\n",
       "<style scoped>\n",
       "    .dataframe tbody tr th:only-of-type {\n",
       "        vertical-align: middle;\n",
       "    }\n",
       "\n",
       "    .dataframe tbody tr th {\n",
       "        vertical-align: top;\n",
       "    }\n",
       "\n",
       "    .dataframe thead th {\n",
       "        text-align: right;\n",
       "    }\n",
       "</style>\n",
       "<table border=\"1\" class=\"dataframe\">\n",
       "  <thead>\n",
       "    <tr style=\"text-align: right;\">\n",
       "      <th></th>\n",
       "      <th>ID</th>\n",
       "      <th>Dni od zakupu</th>\n",
       "      <th>Marka</th>\n",
       "      <th>Wiek kupującego</th>\n",
       "      <th>Płeć kupującego</th>\n",
       "      <th>Ocena</th>\n",
       "    </tr>\n",
       "  </thead>\n",
       "  <tbody>\n",
       "    <tr>\n",
       "      <th>0</th>\n",
       "      <td>0</td>\n",
       "      <td>13</td>\n",
       "      <td>Electrolux</td>\n",
       "      <td>38.0</td>\n",
       "      <td>K</td>\n",
       "      <td>2.5</td>\n",
       "    </tr>\n",
       "    <tr>\n",
       "      <th>1</th>\n",
       "      <td>1</td>\n",
       "      <td>6</td>\n",
       "      <td>Beko</td>\n",
       "      <td>30.0</td>\n",
       "      <td>K</td>\n",
       "      <td>2.0</td>\n",
       "    </tr>\n",
       "    <tr>\n",
       "      <th>2</th>\n",
       "      <td>2</td>\n",
       "      <td>6</td>\n",
       "      <td>Dyson</td>\n",
       "      <td>43.0</td>\n",
       "      <td>K</td>\n",
       "      <td>2.5</td>\n",
       "    </tr>\n",
       "    <tr>\n",
       "      <th>3</th>\n",
       "      <td>3</td>\n",
       "      <td>5</td>\n",
       "      <td>Beko</td>\n",
       "      <td>NaN</td>\n",
       "      <td>M</td>\n",
       "      <td>3.0</td>\n",
       "    </tr>\n",
       "    <tr>\n",
       "      <th>4</th>\n",
       "      <td>4</td>\n",
       "      <td>10</td>\n",
       "      <td>Dyson</td>\n",
       "      <td>42.0</td>\n",
       "      <td>K</td>\n",
       "      <td>3.5</td>\n",
       "    </tr>\n",
       "    <tr>\n",
       "      <th>5</th>\n",
       "      <td>5</td>\n",
       "      <td>9</td>\n",
       "      <td>Dyson</td>\n",
       "      <td>49.0</td>\n",
       "      <td>K</td>\n",
       "      <td>1.0</td>\n",
       "    </tr>\n",
       "    <tr>\n",
       "      <th>6</th>\n",
       "      <td>6</td>\n",
       "      <td>9</td>\n",
       "      <td>Electrolux</td>\n",
       "      <td>NaN</td>\n",
       "      <td>M</td>\n",
       "      <td>0.0</td>\n",
       "    </tr>\n",
       "    <tr>\n",
       "      <th>7</th>\n",
       "      <td>7</td>\n",
       "      <td>5</td>\n",
       "      <td>Dyson</td>\n",
       "      <td>51.0</td>\n",
       "      <td>NaN</td>\n",
       "      <td>3.0</td>\n",
       "    </tr>\n",
       "  </tbody>\n",
       "</table>\n",
       "</div>"
      ],
      "text/plain": [
       "   ID  Dni od zakupu       Marka  Wiek kupującego Płeć kupującego  Ocena\n",
       "0   0             13  Electrolux             38.0               K    2.5\n",
       "1   1              6        Beko             30.0               K    2.0\n",
       "2   2              6       Dyson             43.0               K    2.5\n",
       "3   3              5        Beko              NaN               M    3.0\n",
       "4   4             10       Dyson             42.0               K    3.5\n",
       "5   5              9       Dyson             49.0               K    1.0\n",
       "6   6              9  Electrolux              NaN               M    0.0\n",
       "7   7              5       Dyson             51.0             NaN    3.0"
      ]
     },
     "execution_count": 2,
     "metadata": {},
     "output_type": "execute_result"
    }
   ],
   "source": [
    "df = pd.read_csv(\"../AnalysisData/Kujawsko-Pomorskie.csv\")\n",
    "df_head = str(df.head(8))\n",
    "df.head(8)"
   ]
  },
  {
   "cell_type": "markdown",
   "id": "c497f567",
   "metadata": {},
   "source": [
    "## Opis oraz informacje o danych"
   ]
  },
  {
   "cell_type": "code",
   "execution_count": 3,
   "id": "3c620889",
   "metadata": {},
   "outputs": [
    {
     "name": "stdout",
     "output_type": "stream",
     "text": [
      "<class 'pandas.core.frame.DataFrame'>\n",
      "RangeIndex: 458 entries, 0 to 457\n",
      "Data columns (total 6 columns):\n",
      " #   Column           Non-Null Count  Dtype  \n",
      "---  ------           --------------  -----  \n",
      " 0   ID               458 non-null    int64  \n",
      " 1   Dni od zakupu    458 non-null    int64  \n",
      " 2   Marka            458 non-null    object \n",
      " 3   Wiek kupującego  413 non-null    float64\n",
      " 4   Płeć kupującego  384 non-null    object \n",
      " 5   Ocena            458 non-null    float64\n",
      "dtypes: float64(2), int64(2), object(2)\n",
      "memory usage: 21.6+ KB\n",
      "\n"
     ]
    }
   ],
   "source": [
    "# informacje o danych\n",
    "buffer = io.StringIO()\n",
    "df.info(buf=buffer)\n",
    "info = buffer.getvalue()\n",
    "print(info)"
   ]
  },
  {
   "cell_type": "code",
   "execution_count": 4,
   "id": "19806588",
   "metadata": {},
   "outputs": [
    {
     "name": "stdout",
     "output_type": "stream",
     "text": [
      "               ID  Dni od zakupu  Wiek kupującego       Ocena\n",
      "count  458.000000     458.000000       413.000000  458.000000\n",
      "mean   228.500000       7.074236        40.125908    2.465066\n",
      "std    132.357471       2.708070         9.558640    1.055818\n",
      "min      0.000000       1.000000        18.000000    0.000000\n",
      "25%    114.250000       5.000000        33.000000    2.000000\n",
      "50%    228.500000       7.000000        39.000000    2.500000\n",
      "75%    342.750000       9.000000        46.000000    3.000000\n",
      "max    457.000000      17.000000        74.000000    5.000000\n"
     ]
    }
   ],
   "source": [
    "# opis zmiennych numerycznych\n",
    "num = str(df.describe(include=[np.number]))\n",
    "print(num)"
   ]
  },
  {
   "cell_type": "code",
   "execution_count": 5,
   "id": "c6af657f",
   "metadata": {},
   "outputs": [
    {
     "name": "stdout",
     "output_type": "stream",
     "text": [
      "        Marka Płeć kupującego\n",
      "count     458             384\n",
      "unique      5               2\n",
      "top     Dyson               K\n",
      "freq      190             226\n"
     ]
    }
   ],
   "source": [
    "# opis zmiennych nienumerycznych\n",
    "non_num = str(df.describe(include=[object]))\n",
    "print(non_num)"
   ]
  },
  {
   "cell_type": "markdown",
   "id": "079680bd",
   "metadata": {},
   "source": [
    "## Utworzenie pliku tekstowego DataAppendix.txt oraz zapisanie do niego danych"
   ]
  },
  {
   "cell_type": "code",
   "execution_count": 6,
   "id": "8fc4b8b9",
   "metadata": {},
   "outputs": [],
   "source": [
    "with open('../Documents/DataAppendix.txt', 'w') as file:\n",
    "    file.write(\"Data appendix dla przetworzonego pliku: tb_clean.csv\\n\\n\")\n",
    "    file.write(\"Head of data:\\n\")\n",
    "    file.write(df_head)\n",
    "    file.write(\"\\n\\nInformacje o danych:\\n\")\n",
    "    file.write(info)\n",
    "    file.write(\"\\n\\nOpis zmiennych numerycznych:\\n\")\n",
    "    file.write(num)\n",
    "    file.write(\"\\n\\nOpis zmiennych nienumerycznych:\\n\")\n",
    "    file.write(non_num)"
   ]
  },
  {
   "cell_type": "code",
   "execution_count": null,
   "id": "adba12d7",
   "metadata": {},
   "outputs": [],
   "source": []
  }
 ],
 "metadata": {
  "kernelspec": {
   "display_name": "Python 3",
   "language": "python",
   "name": "python3"
  },
  "language_info": {
   "codemirror_mode": {
    "name": "ipython",
    "version": 3
   },
   "file_extension": ".py",
   "mimetype": "text/x-python",
   "name": "python",
   "nbconvert_exporter": "python",
   "pygments_lexer": "ipython3",
   "version": "3.9.4"
  }
 },
 "nbformat": 4,
 "nbformat_minor": 5
}
