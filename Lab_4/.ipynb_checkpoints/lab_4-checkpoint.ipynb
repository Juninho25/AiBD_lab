{
 "cells": [
  {
   "cell_type": "markdown",
   "id": "e513e0a0",
   "metadata": {},
   "source": [
    "# Ćwiczenie 4 Łączenie tabel, grupowanie i funkcje agregujące\n",
    "\n",
    "Zaimportowanie potrzebnych bibliotek oraz połączenie z bazą danych. "
   ]
  },
  {
   "cell_type": "code",
   "execution_count": 1,
   "id": "1c3610a4",
   "metadata": {},
   "outputs": [],
   "source": [
    "import psycopg2 as pg\n",
    "import pandas as pd"
   ]
  },
  {
   "cell_type": "code",
   "execution_count": 2,
   "id": "2f7e1a80",
   "metadata": {},
   "outputs": [],
   "source": [
    "connection = pg.connect(host='pgsql-196447.vipserv.org', port=5432, dbname='wbauer_adb', user='wbauer_adb', password='adb2020')"
   ]
  },
  {
   "cell_type": "markdown",
   "id": "0c5e6995",
   "metadata": {},
   "source": [
    "## Zadania wprowadzające"
   ]
  },
  {
   "cell_type": "markdown",
   "id": "59bc9ba0",
   "metadata": {},
   "source": [
    "# Zadanie 1\n",
    "Znajdź listę wszystkich filmów o tej samej długości."
   ]
  },
  {
   "cell_type": "code",
   "execution_count": 3,
   "id": "b3c9baee",
   "metadata": {},
   "outputs": [
    {
     "name": "stdout",
     "output_type": "stream",
     "text": [
      "     length  count\n",
      "0        85     17\n",
      "1       112     13\n",
      "2       179     13\n",
      "3        84     13\n",
      "4       100     12\n",
      "..      ...    ...\n",
      "135      81      3\n",
      "136      66      2\n",
      "137      96      2\n",
      "138      95      2\n",
      "139      55      2\n",
      "\n",
      "[140 rows x 2 columns]\n"
     ]
    }
   ],
   "source": [
    "sql = (\"SELECT length, COUNT(title) FROM film \\\n",
    "        GROUP BY length ORDER BY count DESC\")\n",
    "\n",
    "z1 = pd.read_sql(sql, con=connection)\n",
    "\n",
    "print(z1)"
   ]
  },
  {
   "cell_type": "markdown",
   "id": "8391fa65",
   "metadata": {},
   "source": [
    "W bazie danych zostało znalezionych 140 różnych długości filmów. Najczęściej występujące, bo aż 17 razy, są filmy o długości 85 minut. "
   ]
  },
  {
   "cell_type": "markdown",
   "id": "fdabc0ad",
   "metadata": {},
   "source": [
    "# Zadanie 2\n",
    "Znajdź wszystkich klientów mieszkających w tym samym mieście."
   ]
  },
  {
   "cell_type": "code",
   "execution_count": 4,
   "id": "aee9ae12",
   "metadata": {},
   "outputs": [
    {
     "name": "stdout",
     "output_type": "stream",
     "text": [
      "                     city  count\n",
      "0                  London      2\n",
      "1                  Aurora      2\n",
      "2               Molodetno      1\n",
      "3                 Yerevan      1\n",
      "4    Vitria de Santo Anto      1\n",
      "..                    ...    ...\n",
      "592          Garden Grove      1\n",
      "593          Novoterkassk      1\n",
      "594               Asuncin      1\n",
      "595              Maracabo      1\n",
      "596            Rae Bareli      1\n",
      "\n",
      "[597 rows x 2 columns]\n"
     ]
    }
   ],
   "source": [
    "sql = (\"SELECT city.city, COUNT(customer.last_name)\\\n",
    "        FROM customer\\\n",
    "        INNER JOIN address ON customer.address_id = address.address_id\\\n",
    "        INNER JOIN city ON address.city_id = city.city_id\\\n",
    "        GROUP BY city.city\\\n",
    "        ORDER BY COUNT(customer.last_name) DESC\")\n",
    "\n",
    "z2 = pd.read_sql(sql, con=connection)\n",
    "print(z2)"
   ]
  },
  {
   "cell_type": "markdown",
   "id": "2548795c",
   "metadata": {},
   "source": [
    "Ilość miast, w których mieszka co najmniej jeden klient wynosi 597. Natomiast tylko w dwóch miastach, w Londynie i Aurorze, mieszka po dwóch klientów."
   ]
  },
  {
   "cell_type": "markdown",
   "id": "2561bebd",
   "metadata": {},
   "source": [
    "# Zadanie 3\n",
    "Oblicz średni koszt wypożyczenia wszystkich filmów."
   ]
  },
  {
   "cell_type": "code",
   "execution_count": 5,
   "id": "b33602ab",
   "metadata": {},
   "outputs": [
    {
     "name": "stdout",
     "output_type": "stream",
     "text": [
      "        avg\n",
      "0  4.200606\n"
     ]
    }
   ],
   "source": [
    "sql = (\"SELECT AVG(amount) FROM payment\")\n",
    "\n",
    "z3 = pd.read_sql(sql, con=connection)\n",
    "print(z3)"
   ]
  },
  {
   "cell_type": "markdown",
   "id": "24ec9fc2",
   "metadata": {},
   "source": [
    "Średni koszt wypożyczenia wszystkich filmów, w przybliżeniu, wynosi 4.20."
   ]
  },
  {
   "cell_type": "markdown",
   "id": "1b2379cd",
   "metadata": {},
   "source": [
    "# Zadanie 4\n",
    "Oblicz i wyświetl liczbę filmów we wszystkich kategoriach."
   ]
  },
  {
   "cell_type": "code",
   "execution_count": 6,
   "id": "e498e4fc",
   "metadata": {},
   "outputs": [
    {
     "name": "stdout",
     "output_type": "stream",
     "text": [
      "           name  count\n",
      "0        Sports     74\n",
      "1       Foreign     73\n",
      "2        Family     69\n",
      "3   Documentary     68\n",
      "4     Animation     66\n",
      "5        Action     64\n",
      "6           New     63\n",
      "7         Drama     62\n",
      "8        Sci-Fi     61\n",
      "9         Games     61\n",
      "10     Children     60\n",
      "11       Comedy     58\n",
      "12       Travel     57\n",
      "13     Classics     57\n",
      "14       Horror     56\n",
      "15        Music     51\n"
     ]
    }
   ],
   "source": [
    "sql = (\"SELECT category.name, COUNT(film.film_id)\\\n",
    "        FROM film\\\n",
    "        INNER JOIN film_category ON film.film_id = film_category.film_id\\\n",
    "        INNER JOIN category ON film_category.category_id = category.category_id\\\n",
    "        GROUP BY category.name ORDER BY count DESC\")\n",
    "\n",
    "z4 = pd.read_sql(sql, con=connection)\n",
    "print(z4)"
   ]
  },
  {
   "cell_type": "markdown",
   "id": "27d6da8e",
   "metadata": {},
   "source": [
    "Łącznie kategorii filmów jest 16. Najwięcej, bo aż 74, jest filmów z kategorii Sport, natomiast najmniej, bo 51, jest filmów z kategorii Muzyka."
   ]
  },
  {
   "cell_type": "markdown",
   "id": "1d0aa385",
   "metadata": {},
   "source": [
    "# Zadanie 5\n",
    "Wyświetl liczbę wszystkich klientów pogrupowanych według kraju."
   ]
  },
  {
   "cell_type": "code",
   "execution_count": 7,
   "id": "0a89749b",
   "metadata": {},
   "outputs": [
    {
     "name": "stdout",
     "output_type": "stream",
     "text": [
      "           country  count\n",
      "0            India     60\n",
      "1            China     53\n",
      "2    United States     36\n",
      "3            Japan     31\n",
      "4           Mexico     30\n",
      "..             ...    ...\n",
      "103        Hungary      1\n",
      "104    New Zealand      1\n",
      "105        Senegal      1\n",
      "106      Greenland      1\n",
      "107          Tonga      1\n",
      "\n",
      "[108 rows x 2 columns]\n"
     ]
    }
   ],
   "source": [
    "sql = (\"SELECT country.country, COUNT(customer.last_name)\\\n",
    "        FROM customer\\\n",
    "        INNER JOIN address ON customer.address_id = address.address_id\\\n",
    "        INNER JOIN city ON address.city_id = city.city_id\\\n",
    "        INNER JOIN country ON city.country_id = country.country_id\\\n",
    "        GROUP BY country.country\\\n",
    "        ORDER BY COUNT(customer.last_name) DESC\")\n",
    "\n",
    "z5 = pd.read_sql(sql, con=connection)\n",
    "print(z5)"
   ]
  },
  {
   "cell_type": "markdown",
   "id": "22f1fca2",
   "metadata": {},
   "source": [
    "Klienci mieszkają w 108 krajach. Najwięcej znajduje się w Indiach. Pochodzi stamtąd 60 klientów."
   ]
  },
  {
   "cell_type": "markdown",
   "id": "fa1dcc66",
   "metadata": {},
   "source": [
    "# Zadanie 6\n",
    "Wyświetl informacje o sklepie, który ma więcej niż 100 klientów i mniej niż 300 klientów."
   ]
  },
  {
   "cell_type": "code",
   "execution_count": 8,
   "id": "57ef9ad8",
   "metadata": {},
   "outputs": [
    {
     "name": "stdout",
     "output_type": "stream",
     "text": [
      "   store_id  count\n",
      "0         2    273\n"
     ]
    }
   ],
   "source": [
    "sql = (\"SELECT store.store_id, COUNT(customer.last_name)\\\n",
    "        FROM customer\\\n",
    "        INNER JOIN store ON customer.store_id = store.store_id\\\n",
    "        GROUP BY store.store_id\\\n",
    "        HAVING COUNT(customer.last_name) BETWEEN 100 AND 300\")\n",
    "\n",
    "z6 = pd.read_sql(sql, con=connection)\n",
    "print(z6)"
   ]
  },
  {
   "cell_type": "markdown",
   "id": "b8241833",
   "metadata": {},
   "source": [
    "Jedynym sklepem, który spełnia warunek posiadania więcej niż 100, ale mniej niż 300 klientów jest ten o numerze ID równym 2."
   ]
  },
  {
   "cell_type": "markdown",
   "id": "f79c4f3b",
   "metadata": {},
   "source": [
    "# Zadanie 7\n",
    "Wybierz wszystkich klientów, którzy oglądali filmy ponad 200 godzin."
   ]
  },
  {
   "cell_type": "code",
   "execution_count": 9,
   "id": "5b3d8852",
   "metadata": {},
   "outputs": [
    {
     "name": "stdout",
     "output_type": "stream",
     "text": [
      "Empty DataFrame\n",
      "Columns: [first_name, last_name, sum]\n",
      "Index: []\n"
     ]
    }
   ],
   "source": [
    "sql = (\"SELECT customer.first_name, customer.last_name, SUM(film.length)\\\n",
    "        FROM customer\\\n",
    "        INNER JOIN rental ON customer.customer_id = rental.customer_id\\\n",
    "        INNER JOIN inventory ON rental.inventory_id = inventory.inventory_id\\\n",
    "        INNER JOIN film ON inventory.film_id = film.film_id\\\n",
    "        GROUP BY customer.customer_id\\\n",
    "        HAVING SUM(film.length)/60 > 200\")\n",
    "\n",
    "z7 = pd.read_sql(sql, con=connection)\n",
    "print(z7)"
   ]
  },
  {
   "cell_type": "markdown",
   "id": "2f20e28b",
   "metadata": {},
   "source": [
    "Kod zwrócił pusty DataFrame, w związku z tym można stwierdzić, że nie ma żadnych klientów, którzy oglądali film ponad 200 godzin.\n",
    "\n",
    "Jest to spowodowane tym, że długość oglądania jest podana w minutach. Gdyby polecenie zawierało klientów, którzy oglądali filmy ponad 200 minut, to DataFrame przedstawiałby się następująco:"
   ]
  },
  {
   "cell_type": "code",
   "execution_count": 10,
   "id": "90b97076",
   "metadata": {},
   "outputs": [
    {
     "name": "stdout",
     "output_type": "stream",
     "text": [
      "    first_name last_name   sum\n",
      "0       Vickie    Brewer  3484\n",
      "1       Connie   Wallace  2795\n",
      "2       Sylvia     Ortiz  3567\n",
      "3       Miriam  Mckinney  2672\n",
      "4    Gwendolyn       May  2890\n",
      "..         ...       ...   ...\n",
      "594    Jeffrey     Spear  2678\n",
      "595      Hilda   Hopkins  3080\n",
      "596      Clara      Shaw  4808\n",
      "597      Maria    Miller  3494\n",
      "598     Calvin    Martel  2730\n",
      "\n",
      "[599 rows x 3 columns]\n"
     ]
    }
   ],
   "source": [
    "sql = (\"SELECT customer.first_name, customer.last_name, SUM(film.length)\\\n",
    "        FROM customer\\\n",
    "        INNER JOIN rental ON customer.customer_id = rental.customer_id\\\n",
    "        INNER JOIN inventory ON rental.inventory_id = inventory.inventory_id\\\n",
    "        INNER JOIN film ON inventory.film_id = film.film_id\\\n",
    "        GROUP BY customer.customer_id\\\n",
    "        HAVING SUM(film.length) > 200\")\n",
    "\n",
    "z7_2 = pd.read_sql(sql, con=connection)\n",
    "print(z7_2)"
   ]
  },
  {
   "cell_type": "markdown",
   "id": "e4bda58f",
   "metadata": {},
   "source": [
    "# Zadanie 8\n",
    "Oblicz średnią wartość wypożyczenia filmu."
   ]
  },
  {
   "cell_type": "code",
   "execution_count": 11,
   "id": "fea1b7ac",
   "metadata": {},
   "outputs": [
    {
     "name": "stdout",
     "output_type": "stream",
     "text": [
      "        avg\n",
      "0  4.200606\n"
     ]
    }
   ],
   "source": [
    "sql = (\"SELECT AVG(payment.amount)\\\n",
    "        FROM payment\\\n",
    "        INNER JOIN rental ON payment.rental_id = rental.rental_id\\\n",
    "        INNER JOIN inventory ON rental.inventory_id = inventory.inventory_id\\\n",
    "        INNER JOIN film ON inventory.film_id = film.film_id\")\n",
    "\n",
    "z8 = pd.read_sql(sql, con=connection)\n",
    "print(z8)"
   ]
  },
  {
   "cell_type": "markdown",
   "id": "9649bcd7",
   "metadata": {},
   "source": [
    "Średnia wartość wypożyczenia filmu wyniosła 4.20. Jest to taka sama wartość jak w ćwiczeniu trzecim."
   ]
  },
  {
   "cell_type": "markdown",
   "id": "30108fb5",
   "metadata": {},
   "source": [
    "# Zadanie 9\n",
    "Oblicz średnią wartość długości filmu we wszystkich kategoriach."
   ]
  },
  {
   "cell_type": "code",
   "execution_count": 12,
   "id": "ebaac7e9",
   "metadata": {},
   "outputs": [
    {
     "name": "stdout",
     "output_type": "stream",
     "text": [
      "           name         avg\n",
      "0        Sports  128.202703\n",
      "1         Games  127.836066\n",
      "2       Foreign  121.698630\n",
      "3         Drama  120.838710\n",
      "4        Comedy  115.827586\n",
      "5        Family  114.782609\n",
      "6         Music  113.647059\n",
      "7        Travel  113.315789\n",
      "8        Horror  112.482143\n",
      "9      Classics  111.666667\n",
      "10       Action  111.609375\n",
      "11          New  111.126984\n",
      "12    Animation  111.015152\n",
      "13     Children  109.800000\n",
      "14  Documentary  108.750000\n",
      "15       Sci-Fi  108.196721\n"
     ]
    }
   ],
   "source": [
    "sql = (\"SELECT category.name, AVG(length)\\\n",
    "        FROM category\\\n",
    "        INNER JOIN film_category ON category.category_id = film_category.category_id\\\n",
    "        INNER JOIN film ON film_category.film_id = film.film_id\\\n",
    "        GROUP BY category.name\\\n",
    "        ORDER BY AVG(length) DESC\")\n",
    "\n",
    "z9 = pd.read_sql(sql, con=connection)\n",
    "print(z9)"
   ]
  },
  {
   "cell_type": "markdown",
   "id": "bb3a5c78",
   "metadata": {},
   "source": [
    "Najdłuższa średnia długość filmu występuje w kategorii Sport, natomiast najkrótszą średnią długość filmu posiada kategoria Sci-Fi."
   ]
  },
  {
   "cell_type": "markdown",
   "id": "54235771",
   "metadata": {},
   "source": [
    "# Zadanie 10\n",
    "Znajdź najdłuższe tytuły filmowe we wszystkich kategoriach."
   ]
  },
  {
   "cell_type": "code",
   "execution_count": 16,
   "id": "20b4617b",
   "metadata": {},
   "outputs": [
    {
     "name": "stdout",
     "output_type": "stream",
     "text": [
      "           name  max\n",
      "0        Horror   27\n",
      "1        Sports   25\n",
      "2        Travel   23\n",
      "3        Comedy   23\n",
      "4      Classics   23\n",
      "5        Action   23\n",
      "6        Family   22\n",
      "7         Drama   22\n",
      "8         Music   22\n",
      "9   Documentary   22\n",
      "10    Animation   22\n",
      "11          New   21\n",
      "12        Games   21\n",
      "13      Foreign   20\n",
      "14       Sci-Fi   20\n",
      "15     Children   20\n"
     ]
    }
   ],
   "source": [
    "sql = (\"SELECT category.name, MAX(LENGTH(film.title))\\\n",
    "        FROM category\\\n",
    "        INNER JOIN film_category ON category.category_id = film_category.category_id\\\n",
    "        INNER JOIN film ON film_category.film_id = film.film_id\\\n",
    "        GROUP BY category.name\\\n",
    "        ORDER BY MAX(LENGTH(film.title)) DESC\")\n",
    "\n",
    "z10 = pd.read_sql(sql, con=connection)\n",
    "print(z10)"
   ]
  },
  {
   "cell_type": "markdown",
   "id": "f902fe28",
   "metadata": {},
   "source": [
    "Najdłuższy tytuł filmowy występuje w kategorii Horror i ma 27 znaków. Najkrótsze zaś w kategoriach, Foreign, Sci-Fi oraz Children, mają po 20 znaków."
   ]
  },
  {
   "cell_type": "markdown",
   "id": "c37f6f46",
   "metadata": {},
   "source": [
    "# Zadanie 11\n",
    "Znajdź najdłuższy film we wszystkich kategoriach. Porównaj wynik z pkt 10."
   ]
  },
  {
   "cell_type": "code",
   "execution_count": 13,
   "id": "b01f4871",
   "metadata": {},
   "outputs": [
    {
     "name": "stdout",
     "output_type": "stream",
     "text": [
      "           name  max\n",
      "0     Animation  185\n",
      "1        Sci-Fi  185\n",
      "2        Comedy  185\n",
      "3         Games  185\n",
      "4        Travel  185\n",
      "5         Music  185\n",
      "6        Action  185\n",
      "7        Family  184\n",
      "8        Sports  184\n",
      "9       Foreign  184\n",
      "10     Classics  184\n",
      "11          New  183\n",
      "12  Documentary  183\n",
      "13       Horror  181\n",
      "14        Drama  181\n",
      "15     Children  178\n"
     ]
    }
   ],
   "source": [
    "sql = (\"SELECT category.name, MAX(length)\\\n",
    "        FROM category\\\n",
    "        INNER JOIN film_category ON category.category_id = film_category.category_id\\\n",
    "        INNER JOIN film ON film_category.film_id = film.film_id\\\n",
    "        GROUP BY category.name\\\n",
    "        ORDER BY MAX(length) DESC\")\n",
    "\n",
    "z11 = pd.read_sql(sql, con=connection)\n",
    "print(z11)"
   ]
  },
  {
   "cell_type": "markdown",
   "id": "471e87ee",
   "metadata": {},
   "source": [
    "Najdłuższe filmy występują w kategoriach Animation, Sci-Fi, Comedy, Games, Travel, Music oraz Action. Trwają one po 185 minut. Najkrótszy zaś jest film w kategorii Children i trwa 178 minut."
   ]
  },
  {
   "cell_type": "markdown",
   "id": "2ee09a57",
   "metadata": {},
   "source": [
    "Porównując wyniki z zadania 11 oraz wyniki z zadania 10 należy stwierdzić, że różnią się one ze względu na różne dane brane pod uwagę. W zadaniu 10 uwzględnialiśmy długość tytułu wyrażaną poprzez ilość znaków, natomiast w zadaniu 11 braliśmy pod uwagę czas trwania filmu."
   ]
  },
  {
   "cell_type": "code",
   "execution_count": null,
   "id": "9c26db76",
   "metadata": {},
   "outputs": [],
   "source": []
  }
 ],
 "metadata": {
  "kernelspec": {
   "display_name": "Python 3",
   "language": "python",
   "name": "python3"
  },
  "language_info": {
   "codemirror_mode": {
    "name": "ipython",
    "version": 3
   },
   "file_extension": ".py",
   "mimetype": "text/x-python",
   "name": "python",
   "nbconvert_exporter": "python",
   "pygments_lexer": "ipython3",
   "version": "3.9.4"
  }
 },
 "nbformat": 4,
 "nbformat_minor": 5
}
