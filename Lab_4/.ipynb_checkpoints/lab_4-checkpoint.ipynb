{
 "cells": [
  {
   "cell_type": "markdown",
   "id": "e513e0a0",
   "metadata": {},
   "source": [
    "# Ćwiczenie 4 Łączenie tabel, grupowanie i funkcje agregujące\n",
    "\n",
    "Zaimportowanie potrzebnych bibliotek oraz połączenie z bazą danych. "
   ]
  },
  {
   "cell_type": "code",
   "execution_count": 1,
   "id": "1c3610a4",
   "metadata": {},
   "outputs": [],
   "source": [
    "import psycopg2 as pg\n",
    "import pandas as pd"
   ]
  },
  {
   "cell_type": "code",
   "execution_count": 2,
   "id": "2f7e1a80",
   "metadata": {},
   "outputs": [],
   "source": [
    "connection = pg.connect(host='pgsql-196447.vipserv.org', port=5432, dbname='wbauer_adb', user='wbauer_adb', password='adb2020')"
   ]
  },
  {
   "cell_type": "markdown",
   "id": "0c5e6995",
   "metadata": {},
   "source": [
    "## Zadania wprowadzające"
   ]
  },
  {
   "cell_type": "markdown",
   "id": "59bc9ba0",
   "metadata": {},
   "source": [
    "# Zadanie 1\n",
    "Znajdź listę wszystkich filmów o tej samej długości."
   ]
  },
  {
   "cell_type": "code",
   "execution_count": 30,
   "id": "b3c9baee",
   "metadata": {},
   "outputs": [
    {
     "name": "stdout",
     "output_type": "stream",
     "text": [
      "     length  count\n",
      "0        85     17\n",
      "1       112     13\n",
      "2       179     13\n",
      "3        84     13\n",
      "4       100     12\n",
      "..      ...    ...\n",
      "135      81      3\n",
      "136      66      2\n",
      "137      96      2\n",
      "138      95      2\n",
      "139      55      2\n",
      "\n",
      "[140 rows x 2 columns]\n"
     ]
    }
   ],
   "source": [
    "sql = (\"SELECT length, COUNT(title) FROM film \\\n",
    "        GROUP BY length ORDER BY count DESC\")\n",
    "\n",
    "z1 = pd.read_sql(sql, con=connection)\n",
    "\n",
    "print(z1)"
   ]
  },
  {
   "cell_type": "markdown",
   "id": "fdabc0ad",
   "metadata": {},
   "source": [
    "# Zadanie 2\n",
    "Znajdź wszystkich klientów mieszkających w tym samym mieście."
   ]
  },
  {
   "cell_type": "code",
   "execution_count": null,
   "id": "aee9ae12",
   "metadata": {},
   "outputs": [],
   "source": [
    "sql = (\"SELECT first_name, last_name FROM customer \")"
   ]
  },
  {
   "cell_type": "markdown",
   "id": "2561bebd",
   "metadata": {},
   "source": [
    "# Zadanie 3\n",
    "Oblicz średni koszt wypożyczenia wszystkich filmów."
   ]
  },
  {
   "cell_type": "code",
   "execution_count": 25,
   "id": "b33602ab",
   "metadata": {},
   "outputs": [
    {
     "name": "stdout",
     "output_type": "stream",
     "text": [
      "        avg\n",
      "0  4.200606\n"
     ]
    }
   ],
   "source": [
    "sql = (\"SELECT AVG(amount) FROM payment\")\n",
    "\n",
    "z3 = pd.read_sql(sql, con=connection)\n",
    "print(z3)"
   ]
  },
  {
   "cell_type": "markdown",
   "id": "1b2379cd",
   "metadata": {},
   "source": [
    "# Zadanie 4\n",
    "Oblicz i wyświetl liczbę filmów we wszystkich kategoriach."
   ]
  },
  {
   "cell_type": "code",
   "execution_count": 32,
   "id": "e498e4fc",
   "metadata": {},
   "outputs": [
    {
     "name": "stdout",
     "output_type": "stream",
     "text": [
      "    category_id  count\n",
      "0            15     74\n",
      "1             9     73\n",
      "2             8     69\n",
      "3             6     68\n",
      "4             2     66\n",
      "5             1     64\n",
      "6            13     63\n",
      "7             7     62\n",
      "8            14     61\n",
      "9            10     61\n",
      "10            3     60\n",
      "11            5     58\n",
      "12           16     57\n",
      "13            4     57\n",
      "14           11     56\n",
      "15           12     51\n"
     ]
    }
   ],
   "source": [
    "sql = (\"SELECT category_id, COUNT(film_id) FROM film_category\\\n",
    "        GROUP BY category_id ORDER BY count DESC\")\n",
    "\n",
    "z4 = pd.read_sql(sql, con=connection)\n",
    "print(z4)"
   ]
  },
  {
   "cell_type": "markdown",
   "id": "1d0aa385",
   "metadata": {},
   "source": [
    "# Zadanie 5\n",
    "Wyświetl liczbę wszystkich klientów pogrupowanych według kraju."
   ]
  },
  {
   "cell_type": "code",
   "execution_count": null,
   "id": "0a89749b",
   "metadata": {},
   "outputs": [],
   "source": []
  },
  {
   "cell_type": "markdown",
   "id": "fa1dcc66",
   "metadata": {},
   "source": [
    "# Zadanie 6\n",
    "Wyświetl informacje o sklepie, który ma więcej niż 100 klientów i mniej niż 300 klientów."
   ]
  },
  {
   "cell_type": "code",
   "execution_count": null,
   "id": "57ef9ad8",
   "metadata": {},
   "outputs": [],
   "source": []
  },
  {
   "cell_type": "markdown",
   "id": "f79c4f3b",
   "metadata": {},
   "source": [
    "# Zadanie 7\n",
    "Wybierz wszystkich klientów, którzy oglądali filmy ponad 200 godzin."
   ]
  },
  {
   "cell_type": "code",
   "execution_count": null,
   "id": "5b3d8852",
   "metadata": {},
   "outputs": [],
   "source": []
  },
  {
   "cell_type": "markdown",
   "id": "e4bda58f",
   "metadata": {},
   "source": [
    "# Zadanie 8\n",
    "Oblicz średnią wartość wypożyczenia filmu."
   ]
  },
  {
   "cell_type": "code",
   "execution_count": null,
   "id": "fea1b7ac",
   "metadata": {},
   "outputs": [],
   "source": []
  },
  {
   "cell_type": "markdown",
   "id": "30108fb5",
   "metadata": {},
   "source": [
    "# Zadanie 9\n",
    "Oblicz średnią wartość długości filmu we wszystkich kategoriach."
   ]
  },
  {
   "cell_type": "code",
   "execution_count": null,
   "id": "ebaac7e9",
   "metadata": {},
   "outputs": [],
   "source": []
  },
  {
   "cell_type": "markdown",
   "id": "54235771",
   "metadata": {},
   "source": [
    "# Zadanie 10\n",
    "Znajdź najdłuższe tytuły filmowe we wszystkich kategoriach."
   ]
  },
  {
   "cell_type": "code",
   "execution_count": null,
   "id": "20b4617b",
   "metadata": {},
   "outputs": [],
   "source": []
  },
  {
   "cell_type": "markdown",
   "id": "c37f6f46",
   "metadata": {},
   "source": [
    "# Zadanie 11\n",
    "Znajdź najdłuższy film we wszystkich kategoriach. Porównaj wynik z pkt 10."
   ]
  },
  {
   "cell_type": "code",
   "execution_count": null,
   "id": "b01f4871",
   "metadata": {},
   "outputs": [],
   "source": []
  }
 ],
 "metadata": {
  "kernelspec": {
   "display_name": "Python 3.8.8 64-bit ('base': conda)",
   "language": "python",
   "name": "python388jvsc74a57bd01448b48b023bcc9c3d4a79e814720a10ca6d4244f75e0f7ce4af58f96ba2b7d3"
  },
  "language_info": {
   "codemirror_mode": {
    "name": "ipython",
    "version": 3
   },
   "file_extension": ".py",
   "mimetype": "text/x-python",
   "name": "python",
   "nbconvert_exporter": "python",
   "pygments_lexer": "ipython3",
   "version": "3.8.8"
  }
 },
 "nbformat": 4,
 "nbformat_minor": 5
}
