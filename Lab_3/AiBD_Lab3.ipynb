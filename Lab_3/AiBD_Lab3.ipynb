{
  "nbformat": 4,
  "nbformat_minor": 0,
  "metadata": {
    "colab": {
      "name": "AiBD_Lab3.ipynb",
      "provenance": [],
      "collapsed_sections": []
    },
    "kernelspec": {
      "name": "python3",
      "display_name": "Python 3"
    },
    "language_info": {
      "name": "python"
    }
  },
  "cells": [
    {
      "cell_type": "markdown",
      "metadata": {
        "id": "25CSdS_iNrHR"
      },
      "source": [
        "# Ćwiczenie 3 Łączenie z bazą danych i instrukcja select\n",
        "\n",
        "Zaimportowanie potrzebnych bibliotek oraz połączenie z bazą danych"
      ]
    },
    {
      "cell_type": "code",
      "metadata": {
        "colab": {
          "base_uri": "https://localhost:8080/"
        },
        "id": "EjYKANdPOMJP",
        "outputId": "bdf934f6-cbfc-41f8-972f-c6cf5feb67b3"
      },
      "source": [
        "import psycopg2 as pg\n",
        "import pandas as pd"
      ],
      "execution_count": 1,
      "outputs": [
        {
          "output_type": "stream",
          "name": "stderr",
          "text": [
            "/usr/local/lib/python3.7/dist-packages/psycopg2/__init__.py:144: UserWarning: The psycopg2 wheel package will be renamed from release 2.8; in order to keep installing from binary please use \"pip install psycopg2-binary\" instead. For details see: <http://initd.org/psycopg/docs/install.html#binary-install-from-pypi>.\n",
            "  \"\"\")\n"
          ]
        }
      ]
    },
    {
      "cell_type": "code",
      "metadata": {
        "id": "YMPxpzlZPL5X"
      },
      "source": [
        "connection = pg.connect(host='pgsql-196447.vipserv.org', port=5432, dbname='wbauer_adb', user='wbauer_adb', password='adb2020')"
      ],
      "execution_count": 2,
      "outputs": []
    },
    {
      "cell_type": "markdown",
      "metadata": {
        "id": "g7ZhTKj7VqHQ"
      },
      "source": [
        "# Zadanie 1"
      ]
    },
    {
      "cell_type": "code",
      "metadata": {
        "colab": {
          "base_uri": "https://localhost:8080/"
        },
        "id": "j0FxVMeDTgJC",
        "outputId": "d8807614-ed03-4988-fb0f-60b0e710ed95"
      },
      "source": [
        "cat_num = pd.read_sql('SELECT COUNT(*) FROM category', con=connection)\n",
        "print(cat_num)"
      ],
      "execution_count": 3,
      "outputs": [
        {
          "output_type": "stream",
          "name": "stdout",
          "text": [
            "   count\n",
            "0     16\n"
          ]
        }
      ]
    },
    {
      "cell_type": "markdown",
      "metadata": {
        "id": "cTNLLkEWTx_C"
      },
      "source": [
        "Ilość kategorii filmów, które znajdują się w wypożyczalni, to 16."
      ]
    },
    {
      "cell_type": "markdown",
      "metadata": {
        "id": "c7LxrI-CVxE_"
      },
      "source": [
        "# Zadanie 2"
      ]
    },
    {
      "cell_type": "code",
      "metadata": {
        "colab": {
          "base_uri": "https://localhost:8080/"
        },
        "id": "7Q3ljJxfP666",
        "outputId": "b16fd1a9-bb94-43de-8411-3d629c5ca992"
      },
      "source": [
        "category = pd.read_sql('SELECT name FROM category ORDER BY name ASC', con=connection)\n",
        "print(category)"
      ],
      "execution_count": 4,
      "outputs": [
        {
          "output_type": "stream",
          "name": "stdout",
          "text": [
            "           name\n",
            "0        Action\n",
            "1     Animation\n",
            "2      Children\n",
            "3      Classics\n",
            "4        Comedy\n",
            "5   Documentary\n",
            "6         Drama\n",
            "7        Family\n",
            "8       Foreign\n",
            "9         Games\n",
            "10       Horror\n",
            "11        Music\n",
            "12          New\n",
            "13       Sci-Fi\n",
            "14       Sports\n",
            "15       Travel\n"
          ]
        }
      ]
    },
    {
      "cell_type": "markdown",
      "metadata": {
        "id": "WOPW2BYYRLLO"
      },
      "source": [
        "Lista kategorii w kolejności alfabetycznej jest widoczna powyżej."
      ]
    },
    {
      "cell_type": "markdown",
      "metadata": {
        "id": "aEbHyMkEV2-o"
      },
      "source": [
        "# Zadanie 3"
      ]
    },
    {
      "cell_type": "code",
      "metadata": {
        "colab": {
          "base_uri": "https://localhost:8080/"
        },
        "id": "-7q4B44dSMiz",
        "outputId": "41235dff-b4dc-4297-9ae6-486dbabae481"
      },
      "source": [
        "youngest = pd.read_sql('SELECT title FROM film WHERE release_year = (SELECT MIN(release_year) FROM film) LIMIT 1', con=connection)\n",
        "print(\"Najmłodszy film:\")\n",
        "print(youngest)\n",
        "\n",
        "oldest = pd.read_sql('SELECT title FROM film WHERE release_year = (SELECT MAX(release_year) FROM film) LIMIT 1', con=connection)\n",
        "print(\"\\nNajstarszy film:\")\n",
        "print(oldest)"
      ],
      "execution_count": 8,
      "outputs": [
        {
          "output_type": "stream",
          "name": "stdout",
          "text": [
            "Najmłodszy film:\n",
            "             title\n",
            "0  Chamber Italian\n",
            "\n",
            "Najstarszy film:\n",
            "             title\n",
            "0  Chamber Italian\n"
          ]
        }
      ]
    },
    {
      "cell_type": "markdown",
      "metadata": {
        "id": "al0TJ1voPkTT"
      },
      "source": [
        "Powyższa instrukcja wskazuje na ten sam film będący zarówno najstarszym jak i najmłodszym. Wynika to z faktu, iż wszystkie filmy mają ten sam rok wydania, w związku z czym nie da się ich posortować ze względu na datę."
      ]
    },
    {
      "cell_type": "markdown",
      "metadata": {
        "id": "wPN3L9jQV5jQ"
      },
      "source": [
        "# Zadanie 4"
      ]
    },
    {
      "cell_type": "code",
      "metadata": {
        "colab": {
          "base_uri": "https://localhost:8080/"
        },
        "id": "93CeWsnvV745",
        "outputId": "d1693cad-43d7-42f7-ef2b-308d46edf21c"
      },
      "source": [
        "between_1 = pd.read_sql(\"SELECT COUNT(*) FROM rental WHERE rental_date BETWEEN '2005-07-01'::timestamp AND '2005-08-01'::timestamp\", con=connection)\n",
        "print(between_1)"
      ],
      "execution_count": 10,
      "outputs": [
        {
          "output_type": "stream",
          "name": "stdout",
          "text": [
            "   count\n",
            "0   6709\n"
          ]
        }
      ]
    },
    {
      "cell_type": "markdown",
      "metadata": {
        "id": "9tTULHmAY2B5"
      },
      "source": [
        "Między 2005-07-01 a 2005-08-01 odbyło się 6709 wypożyczeń."
      ]
    },
    {
      "cell_type": "markdown",
      "metadata": {
        "id": "bSBLViO_Y-tR"
      },
      "source": [
        "# Zadanie 5"
      ]
    },
    {
      "cell_type": "code",
      "metadata": {
        "colab": {
          "base_uri": "https://localhost:8080/"
        },
        "id": "4K_vzj3yWgWZ",
        "outputId": "34de10e5-5c78-4734-820c-038166fe4e90"
      },
      "source": [
        "between_2 = pd.read_sql(\"SELECT COUNT(*) FROM rental WHERE rental_date BETWEEN '2010-01-01'::timestamp AND '2011-02-01'::timestamp\", con=connection)\n",
        "print(between_2)"
      ],
      "execution_count": 9,
      "outputs": [
        {
          "output_type": "stream",
          "name": "stdout",
          "text": [
            "   count\n",
            "0      0\n"
          ]
        }
      ]
    },
    {
      "cell_type": "markdown",
      "metadata": {
        "id": "Q8Lz-9JBZhcE"
      },
      "source": [
        "Między 2010-01-01 a 2011-02-01 nie odbyło się żadne wypożyczenie."
      ]
    },
    {
      "cell_type": "markdown",
      "metadata": {
        "id": "7U_S81iFZt3t"
      },
      "source": [
        "# Zadanie 6"
      ]
    },
    {
      "cell_type": "code",
      "metadata": {
        "colab": {
          "base_uri": "https://localhost:8080/"
        },
        "id": "f45umGAvZx7b",
        "outputId": "5a99c807-45d7-4594-f804-ff461aab37e3"
      },
      "source": [
        "max_pay = pd.read_sql('SELECT MAX(amount) FROM payment', con=connection)\n",
        "print(max_pay)"
      ],
      "execution_count": 11,
      "outputs": [
        {
          "output_type": "stream",
          "name": "stdout",
          "text": [
            "     max\n",
            "0  11.99\n"
          ]
        }
      ]
    },
    {
      "cell_type": "markdown",
      "metadata": {
        "id": "1J2oxfi3aM4u"
      },
      "source": [
        "Największa płatność wypożyczenia wyniosła 11.99."
      ]
    },
    {
      "cell_type": "markdown",
      "metadata": {
        "id": "r_GMOpcOaS7l"
      },
      "source": [
        "# Zadanie 7"
      ]
    },
    {
      "cell_type": "code",
      "metadata": {
        "colab": {
          "base_uri": "https://localhost:8080/"
        },
        "id": "_JTC9ZeRaUsO",
        "outputId": "9847124b-4dc5-4af7-db8a-0a8142334250"
      },
      "source": [
        "pol_nig_ban = pd.read_sql(\"SELECT customer_id, first_name, last_name FROM customer WHERE address_id IN \\\n",
        "                            (SELECT address_id FROM address WHERE city_id IN \\\n",
        "                              (SELECT city_id FROM city WHERE country_id IN \\\n",
        "                                (SELECT country_id FROM country WHERE country IN('Poland', 'Nigeria', 'Bangladesh'))))\", con=connection)\n",
        "\n",
        "print(pol_nig_ban)"
      ],
      "execution_count": 14,
      "outputs": [
        {
          "output_type": "stream",
          "name": "stdout",
          "text": [
            "    customer_id first_name  last_name\n",
            "0            18      Carol     Garcia\n",
            "1            21   Michelle      Clark\n",
            "2            80    Marilyn       Ross\n",
            "3           103     Gladys   Hamilton\n",
            "4           128   Marjorie     Tucker\n",
            "5           156     Bertha   Ferguson\n",
            "6           198      Elsie     Kelley\n",
            "7           232  Constance       Reid\n",
            "8           250         Jo     Fowler\n",
            "9           270       Leah     Curtis\n",
            "10          277       Olga    Jimenez\n",
            "11          280     Tracey    Barrett\n",
            "12          284      Sonia    Gregory\n",
            "13          286      Velma      Lucas\n",
            "14          318      Brian      Wyman\n",
            "15          329      Frank   Waggoner\n",
            "16          332    Stephen     Qualls\n",
            "17          380    Russell    Brinson\n",
            "18          409     Rodney    Moeller\n",
            "19          501      Ruben      Geary\n",
            "20          558     Jimmie  Eggleston\n",
            "21          562    Wallace      Slone\n",
            "22          571    Johnnie   Chisholm\n",
            "23          572     Sidney   Burleson\n"
          ]
        }
      ]
    },
    {
      "cell_type": "markdown",
      "metadata": {
        "id": "-CL2scN4SR0U"
      },
      "source": [
        "Powyżej widoczni są wszyscy klienci z Polski, Nigerii oraz Bangladeszu."
      ]
    },
    {
      "cell_type": "markdown",
      "metadata": {
        "id": "ktil_nnASYiU"
      },
      "source": [
        "# Zadanie 8"
      ]
    },
    {
      "cell_type": "code",
      "metadata": {
        "colab": {
          "base_uri": "https://localhost:8080/"
        },
        "id": "YzndIL8JSax_",
        "outputId": "989a883b-71b8-4f48-f771-edf0979352ca"
      },
      "source": [
        "staff = pd.read_sql(\"SELECT country.country, city.city, address.address FROM country, city, address, staff \\\n",
        "                      WHERE country.country_id = city.country_id \\\n",
        "                      AND city.city_id = address.city_id \\\n",
        "                      AND address.address_id = staff.address_id\", con=connection)\n",
        "\n",
        "print(staff)"
      ],
      "execution_count": 30,
      "outputs": [
        {
          "output_type": "stream",
          "name": "stdout",
          "text": [
            "     country        city               address\n",
            "0     Canada  Lethbridge     23 Workhaven Lane\n",
            "1  Australia   Woodridge  1411 Lillydale Drive\n"
          ]
        }
      ]
    },
    {
      "cell_type": "markdown",
      "metadata": {
        "id": "PiM73u3fYHKT"
      },
      "source": [
        "Członkowie personelu mieszkają w Kanadzie oraz Australii, a ich dokładne adresy są widoczne powyżej."
      ]
    },
    {
      "cell_type": "markdown",
      "metadata": {
        "id": "QB6zaXrwYN7J"
      },
      "source": [
        "# Zadanie 9"
      ]
    },
    {
      "cell_type": "code",
      "metadata": {
        "colab": {
          "base_uri": "https://localhost:8080/"
        },
        "id": "TcYVsMvxYd_o",
        "outputId": "6428c6ba-3830-4260-c50b-5af607e2709d"
      },
      "source": [
        "arg_or_spain = pd.read_sql(\"SELECT COUNT(*) FROM staff WHERE address_id IN \\\n",
        "                            (SELECT address_id FROM address WHERE city_id IN \\\n",
        "                              (SELECT city_id FROM city WHERE country_id IN \\\n",
        "                                (SELECT country_id FROM country WHERE country IN('Argentina', 'Spain'))))\", con=connection)\n",
        "\n",
        "print(arg_or_spain)"
      ],
      "execution_count": 32,
      "outputs": [
        {
          "output_type": "stream",
          "name": "stdout",
          "text": [
            "   count\n",
            "0      0\n"
          ]
        }
      ]
    },
    {
      "cell_type": "markdown",
      "metadata": {
        "id": "j91ZNHKOZHV0"
      },
      "source": [
        "W Argentynie lub w Hiszpanii nie mieszka żaden z pracowników."
      ]
    },
    {
      "cell_type": "markdown",
      "metadata": {
        "id": "z0NfrTIZZMbJ"
      },
      "source": [
        "# Zadanie 10"
      ]
    },
    {
      "cell_type": "code",
      "metadata": {
        "colab": {
          "base_uri": "https://localhost:8080/"
        },
        "id": "a3i3qb0eZPsQ",
        "outputId": "1ab0a1d0-d35e-4199-b275-69b1755a0948"
      },
      "source": [
        "cat_rent = pd.read_sql(\"SELECT name FROM category WHERE category_id IN \\\n",
        "                        (SELECT category_id FROM film_category WHERE film_id IN \\\n",
        "                          (SELECT film_id FROM film WHERE film_id IN \\\n",
        "                            (SELECT film_id FROM inventory WHERE inventory_id IN \\\n",
        "                              (SELECT inventory_id FROM rental))))\", con=connection)\n",
        "\n",
        "print(cat_rent)"
      ],
      "execution_count": 34,
      "outputs": [
        {
          "output_type": "stream",
          "name": "stdout",
          "text": [
            "           name\n",
            "0        Family\n",
            "1        Travel\n",
            "2        Sports\n",
            "3      Classics\n",
            "4        Action\n",
            "5           New\n",
            "6        Comedy\n",
            "7        Horror\n",
            "8      Children\n",
            "9        Sci-Fi\n",
            "10        Music\n",
            "11        Games\n",
            "12      Foreign\n",
            "13  Documentary\n",
            "14    Animation\n",
            "15        Drama\n"
          ]
        }
      ]
    },
    {
      "cell_type": "markdown",
      "metadata": {
        "id": "5SgMWRQnbroP"
      },
      "source": [
        "Na tej liście znajdują się wszystkie kategorie filmów wypożyczanych przez klientów."
      ]
    },
    {
      "cell_type": "markdown",
      "metadata": {
        "id": "5-1zktEZbzaB"
      },
      "source": [
        "# Zadanie 11"
      ]
    },
    {
      "cell_type": "code",
      "metadata": {
        "colab": {
          "base_uri": "https://localhost:8080/"
        },
        "id": "ZDD7TPlxb1fL",
        "outputId": "7d03b925-69e2-4465-f5d2-ee87a07530d5"
      },
      "source": [
        "film_usa = pd.read_sql(\"SELECT name FROM category, film_category, film, inventory, rental, staff, address, city, country, store \\\n",
        "                        WHERE category.category_id = film_category.category_id \\\n",
        "                        AND film_category.film_id = film.film_id \\\n",
        "                        AND film.film_id = inventory.film_id \\\n",
        "                        AND inventory.inventory_id = rental.inventory_id \\\n",
        "                        AND rental.staff_id = staff.staff_id \\\n",
        "                        AND staff.address_id = address.address_id \\\n",
        "                        AND address.city_id = city.city_id \\\n",
        "                        AND city.country_id = country.country_id \\\n",
        "                        AND country.country = 'United States' \\\n",
        "                        AND staff.store_id = store.store_id \\\n",
        "                        AND store.address_id = address.address_id\", con=connection)\n",
        "\n",
        "print(film_usa)"
      ],
      "execution_count": 35,
      "outputs": [
        {
          "output_type": "stream",
          "name": "stdout",
          "text": [
            "Empty DataFrame\n",
            "Columns: [name]\n",
            "Index: []\n"
          ]
        }
      ]
    },
    {
      "cell_type": "markdown",
      "metadata": {
        "id": "dO-jQu-ReiPy"
      },
      "source": [
        "Jak widać w Ameryce nie został wypożyczone żadne kategorie filmów, ponieważ dostaliśmy pusty DataFrame."
      ]
    },
    {
      "cell_type": "markdown",
      "metadata": {
        "id": "ABahi4p1eo4x"
      },
      "source": [
        "# Zadanie 12"
      ]
    },
    {
      "cell_type": "code",
      "metadata": {
        "colab": {
          "base_uri": "https://localhost:8080/"
        },
        "id": "cpEn5oieeq3i",
        "outputId": "39fd2c36-f82e-45a0-d7de-d13e78ad6cb7"
      },
      "source": [
        "act = pd.read_sql(\"SELECT title FROM film WHERE film_id IN \\\n",
        "                    (SELECT film_id FROM film_actor WHERE actor_id IN \\\n",
        "                      (SELECT actor_id FROM actor WHERE \\\n",
        "                        first_name = 'Olympia' AND last_name = 'Pfeiffer' OR \\\n",
        "                        first_name = 'Julia' AND last_name = 'Zellweger' OR \\\n",
        "                        first_name = 'Ellen' AND last_name = 'Presley'))\", con=connection)\n",
        "\n",
        "print(act)"
      ],
      "execution_count": 39,
      "outputs": [
        {
          "output_type": "stream",
          "name": "stdout",
          "text": [
            "                title\n",
            "0   Caribbean Liberty\n",
            "1      Roots Remember\n",
            "2        Outlaw Hanky\n",
            "3        Women Dorado\n",
            "4    Empire Malkovich\n",
            "..                ...\n",
            "64  Contact Anonymous\n",
            "65    Majestic Floats\n",
            "66       Deep Crusade\n",
            "67   Effect Gladiator\n",
            "68     Express Lonely\n",
            "\n",
            "[69 rows x 1 columns]\n"
          ]
        }
      ]
    },
    {
      "cell_type": "markdown",
      "metadata": {
        "id": "EZ7UPpKUgjrh"
      },
      "source": [
        "Tytuły filmów, które zostały wyświetlone to filmy, w których grał: Olympia Pfeiffer, Julia Zellweger lub Ellen Presley."
      ]
    }
  ]
}