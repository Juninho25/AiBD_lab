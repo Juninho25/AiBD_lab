{
 "cells": [
  {
   "cell_type": "markdown",
   "id": "ea434406",
   "metadata": {},
   "source": [
    "# Laboratorium 5 - Wyrażenia regularne"
   ]
  },
  {
   "cell_type": "markdown",
   "id": "1bcfa32d",
   "metadata": {},
   "source": [
    "Zaimportowanie potrzebnych bibliotek oraz połączenie z bazą danych."
   ]
  },
  {
   "cell_type": "code",
   "execution_count": 1,
   "id": "dcd8761f",
   "metadata": {},
   "outputs": [],
   "source": [
    "import psycopg2 as pg\n",
    "import pandas as pd\n",
    "import main\n",
    "import numpy as np\n",
    "import pickle\n",
    "from typing import Union, List, Tuple"
   ]
  },
  {
   "cell_type": "code",
   "execution_count": 2,
   "id": "f4b2778f",
   "metadata": {},
   "outputs": [],
   "source": [
    "connection = pg.connect(host='pgsql-196447.vipserv.org', port=5432, dbname='wbauer_adb', user='wbauer_adb', password='adb2020')"
   ]
  },
  {
   "cell_type": "markdown",
   "id": "050bc1d2",
   "metadata": {},
   "source": [
    "## Zadania"
   ]
  },
  {
   "cell_type": "markdown",
   "id": "d6a17607",
   "metadata": {},
   "source": [
    "1. Znajdź wszystkie nazwy krajów rozpoczynających się na P"
   ]
  },
  {
   "cell_type": "code",
   "execution_count": 3,
   "id": "95820a27",
   "metadata": {},
   "outputs": [
    {
     "name": "stdout",
     "output_type": "stream",
     "text": [
      "       country\n",
      "0     Pakistan\n",
      "1     Paraguay\n",
      "2         Peru\n",
      "3  Philippines\n",
      "4       Poland\n",
      "5  Puerto Rico\n"
     ]
    }
   ],
   "source": [
    "sql = (\"SELECT country FROM country WHERE country LIKE 'P%'\")\n",
    "\n",
    "z1 = pd.read_sql(sql, con=connection)\n",
    "print(z1)"
   ]
  },
  {
   "cell_type": "markdown",
   "id": "143d9629",
   "metadata": {},
   "source": [
    "Zostało znalezionych 6 krajów, których nazwy rozpoczynają się od P."
   ]
  },
  {
   "cell_type": "markdown",
   "id": "32a426ec",
   "metadata": {},
   "source": [
    "2. Znajdź wszystkie nazwy krajów rozpoczynających się P i kończących na s."
   ]
  },
  {
   "cell_type": "code",
   "execution_count": 4,
   "id": "f30ac436",
   "metadata": {},
   "outputs": [
    {
     "name": "stdout",
     "output_type": "stream",
     "text": [
      "       country\n",
      "0  Philippines\n"
     ]
    }
   ],
   "source": [
    "sql = (\"SELECT country FROM country WHERE country LIKE 'P%s'\")\n",
    "\n",
    "z2 = pd.read_sql(sql, con=connection)\n",
    "print(z2)"
   ]
  },
  {
   "cell_type": "markdown",
   "id": "e16805c0",
   "metadata": {},
   "source": [
    "Do warunku rozpoczęcia nazwy kraju od P, dołożyliśmy warunek zakończenia na s. W ten sposób został znaleziony tylko jeden kraj."
   ]
  },
  {
   "cell_type": "markdown",
   "id": "89edace2",
   "metadata": {},
   "source": [
    "3. Znajdź wszystkie tytuły filmów, w których znajdują się cyfry."
   ]
  },
  {
   "cell_type": "code",
   "execution_count": 5,
   "id": "b9b1fecd",
   "metadata": {},
   "outputs": [
    {
     "name": "stdout",
     "output_type": "stream",
     "text": [
      "Empty DataFrame\n",
      "Columns: [title]\n",
      "Index: []\n"
     ]
    }
   ],
   "source": [
    "sql = (\"SELECT title FROM film WHERE title LIKE '%[0-9]%'\")\n",
    "\n",
    "z3 = pd.read_sql(sql, con=connection)\n",
    "print(z3)"
   ]
  },
  {
   "cell_type": "markdown",
   "id": "c22cd04a",
   "metadata": {},
   "source": [
    "W bazie danych nie znajdują się żadne tytuły filmów zawierające cyfry."
   ]
  },
  {
   "cell_type": "markdown",
   "id": "e03a6a2d",
   "metadata": {},
   "source": [
    "4. Znajdź wszystkich pracowników z podwójnym imieniem lub nazwiskiem."
   ]
  },
  {
   "cell_type": "code",
   "execution_count": 6,
   "id": "c590a243",
   "metadata": {},
   "outputs": [
    {
     "name": "stdout",
     "output_type": "stream",
     "text": [
      "Empty DataFrame\n",
      "Columns: [first_name, last_name]\n",
      "Index: []\n"
     ]
    }
   ],
   "source": [
    "sql = (\"SELECT first_name, last_name FROM staff\\\n",
    "        WHERE first_name ILIKE '+[ ,-]+' OR last_name ILIKE '+[ ,-]+'\")\n",
    "\n",
    "z4 = pd.read_sql(sql, con=connection)\n",
    "print(z4)"
   ]
  },
  {
   "cell_type": "markdown",
   "id": "3367976c",
   "metadata": {},
   "source": [
    "W bazie danych nie został znaleziony żaden pracownik, który posiada podwójne imię lub nazwisko."
   ]
  },
  {
   "cell_type": "markdown",
   "id": "25af43c2",
   "metadata": {},
   "source": [
    "5. Znajdź wszystkie nazwiska aktorów rozpoczynających się od P lub C i mających 5 znaków."
   ]
  },
  {
   "cell_type": "code",
   "execution_count": 7,
   "id": "e908407d",
   "metadata": {},
   "outputs": [
    {
     "name": "stdout",
     "output_type": "stream",
     "text": [
      "  last_name\n",
      "0     Chase\n",
      "1     Posey\n",
      "2     Pesci\n",
      "3     Crowe\n",
      "4     Chase\n",
      "5     Close\n"
     ]
    }
   ],
   "source": [
    "sql = (\"SELECT last_name FROM actor\\\n",
    "        WHERE last_name ~ '([P,C].{4}$)'\")\n",
    "\n",
    "z5 = pd.read_sql(sql, con=connection)\n",
    "print(z5)"
   ]
  },
  {
   "cell_type": "markdown",
   "id": "03bd7aa0",
   "metadata": {},
   "source": [
    "Aktorów, których nazwiska rozpoczynają się od P lub od C i mają 5 znaków, jest sześciu."
   ]
  },
  {
   "cell_type": "markdown",
   "id": "a62d15aa",
   "metadata": {},
   "source": [
    "6. Znajdź wszystkie tytuły filmów, w których występują słowa Trip lub Alone."
   ]
  },
  {
   "cell_type": "code",
   "execution_count": 8,
   "id": "4682ebc1",
   "metadata": {},
   "outputs": [
    {
     "name": "stdout",
     "output_type": "stream",
     "text": [
      "           title\n",
      "0     Alone Trip\n",
      "1  Superfly Trip\n",
      "2    Trip Newton\n",
      "3   Varsity Trip\n"
     ]
    }
   ],
   "source": [
    "sql = (\"SELECT title FROM film\\\n",
    "        WHERE title ~ '(Trip|Alone)' \")\n",
    "\n",
    "z6 = pd.read_sql(sql, con=connection)\n",
    "print(z6)"
   ]
  },
  {
   "cell_type": "markdown",
   "id": "9d084df8",
   "metadata": {},
   "source": [
    "W wyniku działania powyższego kodu zostało znalezione 4 tytuły, w których występują słowa Trip lub Alone."
   ]
  },
  {
   "cell_type": "markdown",
   "id": "db821b18",
   "metadata": {},
   "source": [
    "7. Przeanalizuj zapytania:\n",
    "\n",
    "    -select first_name from actor where first_name ~ '^Al[a:z,1:9]*'\n",
    "    \n",
    "    -select first_name from actor where first_name ~* '^al[a:z,1:9]*'\n"
   ]
  },
  {
   "cell_type": "code",
   "execution_count": 9,
   "id": "c043c2d2",
   "metadata": {},
   "outputs": [
    {
     "name": "stdout",
     "output_type": "stream",
     "text": [
      "  first_name\n",
      "0       Alec\n",
      "1     Albert\n",
      "2     Albert\n",
      "3         Al\n",
      "4       Alan\n"
     ]
    }
   ],
   "source": [
    "sql_1 = (\"SELECT first_name FROM actor\\\n",
    "          WHERE first_name ~ '^Al[a:z,1:9]*'\")\n",
    "\n",
    "z7_1 = pd.read_sql(sql_1, con=connection)\n",
    "print(z7_1)"
   ]
  },
  {
   "cell_type": "code",
   "execution_count": 10,
   "id": "5922a3c0",
   "metadata": {},
   "outputs": [
    {
     "name": "stdout",
     "output_type": "stream",
     "text": [
      "  first_name\n",
      "0       Alec\n",
      "1     Albert\n",
      "2     Albert\n",
      "3         Al\n",
      "4       Alan\n"
     ]
    }
   ],
   "source": [
    "sql_2 = (\"SELECT first_name FROM actor\\\n",
    "          WHERE first_name ~* '^al[a:z,1:9]*'\")\n",
    "\n",
    "z7_2 = pd.read_sql(sql_2, con=connection)\n",
    "print(z7_2)"
   ]
  },
  {
   "cell_type": "markdown",
   "id": "8a3f9d70",
   "metadata": {},
   "source": [
    "Powyższe zapytania różnią się występowaniem gwiazdki, odpowiadającej za wykrycie sekwencji 0 lub więcej dopasowań danych ciągów. Chodzi tutaj o zmianę znaku \" ~ \" na \" ~* \" . Powoduje to brak rozróżniania wielkości liter, wobec czego wyniki są takie same pomimo zastosowanie w pierwszym przypadkiej wielkiej litery \"A\", a w drugim małej litery \"a\"."
   ]
  },
  {
   "cell_type": "markdown",
   "id": "ef1ae124",
   "metadata": {},
   "source": [
    "## Zadania implementacyjne"
   ]
  },
  {
   "cell_type": "code",
   "execution_count": 11,
   "id": "5162b615",
   "metadata": {},
   "outputs": [
    {
     "name": "stdout",
     "output_type": "stream",
     "text": [
      "                     title               languge category\n",
      "0             Amadeus Holy  English                Action\n",
      "1          American Circus  English                Action\n",
      "2       Antitrust Tomatoes  English                Action\n",
      "3            Ark Ridgemont  English                Action\n",
      "4      Barefoot Manchurian  English                Action\n",
      "..                     ...                   ...      ...\n",
      "59         Uprising Uptown  English                Action\n",
      "60  Waterfront Deliverance  English                Action\n",
      "61           Werewolf Lola  English                Action\n",
      "62            Women Dorado  English                Action\n",
      "63            Worst Banger  English                Action\n",
      "\n",
      "[64 rows x 3 columns]\n"
     ]
    }
   ],
   "source": [
    "# Test funkcji pierwszej - film_in_category\n",
    "print(main.film_in_category(1))"
   ]
  },
  {
   "cell_type": "code",
   "execution_count": 12,
   "id": "e77630e5",
   "metadata": {},
   "outputs": [
    {
     "name": "stdout",
     "output_type": "stream",
     "text": [
      "                     title               languge category\n",
      "0             Amadeus Holy  English                Action\n",
      "1          American Circus  English                Action\n",
      "2       Antitrust Tomatoes  English                Action\n",
      "3            Ark Ridgemont  English                Action\n",
      "4      Barefoot Manchurian  English                Action\n",
      "..                     ...                   ...      ...\n",
      "59         Uprising Uptown  English                Action\n",
      "60  Waterfront Deliverance  English                Action\n",
      "61           Werewolf Lola  English                Action\n",
      "62            Women Dorado  English                Action\n",
      "63            Worst Banger  English                Action\n",
      "\n",
      "[64 rows x 3 columns]\n"
     ]
    }
   ],
   "source": [
    "# Test funkcji drugiej - film_in_category_case_insentive\n",
    "print(main.film_in_category_case_insensitive('action'))"
   ]
  },
  {
   "cell_type": "code",
   "execution_count": 13,
   "id": "478f20ab",
   "metadata": {},
   "outputs": [
    {
     "name": "stdout",
     "output_type": "stream",
     "text": [
      "  first_name last_name\n",
      "0      Kevin     Bloom\n",
      "1        Rip  Crawford\n",
      "2     Sidney     Crowe\n",
      "3     Warren   Jackman\n",
      "4    Frances     Tomei\n"
     ]
    }
   ],
   "source": [
    "# Test funkcji trzeciej - film_cast\n",
    "print(main.film_cast('American Circus'))"
   ]
  },
  {
   "cell_type": "code",
   "execution_count": 14,
   "id": "529d7060",
   "metadata": {},
   "outputs": [
    {
     "name": "stdout",
     "output_type": "stream",
     "text": [
      "              title\n",
      "0  Crystal Breaking\n",
      "1   Dracula Crystal\n",
      "2      Women Dorado\n"
     ]
    }
   ],
   "source": [
    "# Test funkcji czwartej - film_title_case_insensitive\n",
    "print(main.film_title_case_insensitive(['crystal', 'WOMEN', 'lol']))"
   ]
  },
  {
   "cell_type": "code",
   "execution_count": null,
   "id": "5d692a90",
   "metadata": {},
   "outputs": [],
   "source": []
  }
 ],
 "metadata": {
  "kernelspec": {
   "display_name": "Python 3",
   "language": "python",
   "name": "python3"
  },
  "language_info": {
   "codemirror_mode": {
    "name": "ipython",
    "version": 3
   },
   "file_extension": ".py",
   "mimetype": "text/x-python",
   "name": "python",
   "nbconvert_exporter": "python",
   "pygments_lexer": "ipython3",
   "version": "3.9.4"
  }
 },
 "nbformat": 4,
 "nbformat_minor": 5
}
