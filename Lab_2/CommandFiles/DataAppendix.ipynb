{
 "cells": [
  {
   "cell_type": "code",
   "execution_count": 1,
   "id": "ac7aab8b",
   "metadata": {},
   "outputs": [],
   "source": [
    "import pandas as pd\n",
    "import matplotlib.pyplot as plt\n",
    "import numpy as np\n",
    "import io"
   ]
  },
  {
   "cell_type": "markdown",
   "id": "5eb3f3cb",
   "metadata": {},
   "source": [
    "Wczytanie przetworzonego pliku oraz wyświetlenie jego początku"
   ]
  },
  {
   "cell_type": "code",
   "execution_count": 2,
   "id": "e763c881",
   "metadata": {},
   "outputs": [
    {
     "data": {
      "text/html": [
       "<div>\n",
       "<style scoped>\n",
       "    .dataframe tbody tr th:only-of-type {\n",
       "        vertical-align: middle;\n",
       "    }\n",
       "\n",
       "    .dataframe tbody tr th {\n",
       "        vertical-align: top;\n",
       "    }\n",
       "\n",
       "    .dataframe thead th {\n",
       "        text-align: right;\n",
       "    }\n",
       "</style>\n",
       "<table border=\"1\" class=\"dataframe\">\n",
       "  <thead>\n",
       "    <tr style=\"text-align: right;\">\n",
       "      <th></th>\n",
       "      <th>country</th>\n",
       "      <th>year</th>\n",
       "      <th>sex</th>\n",
       "      <th>ages</th>\n",
       "      <th>cases</th>\n",
       "    </tr>\n",
       "  </thead>\n",
       "  <tbody>\n",
       "    <tr>\n",
       "      <th>0</th>\n",
       "      <td>AD</td>\n",
       "      <td>1996</td>\n",
       "      <td>m</td>\n",
       "      <td>0-14</td>\n",
       "      <td>0.0</td>\n",
       "    </tr>\n",
       "    <tr>\n",
       "      <th>1</th>\n",
       "      <td>AD</td>\n",
       "      <td>1996</td>\n",
       "      <td>m</td>\n",
       "      <td>15-24</td>\n",
       "      <td>0.0</td>\n",
       "    </tr>\n",
       "    <tr>\n",
       "      <th>2</th>\n",
       "      <td>AD</td>\n",
       "      <td>1996</td>\n",
       "      <td>m</td>\n",
       "      <td>25-34</td>\n",
       "      <td>0.0</td>\n",
       "    </tr>\n",
       "    <tr>\n",
       "      <th>3</th>\n",
       "      <td>AD</td>\n",
       "      <td>1996</td>\n",
       "      <td>m</td>\n",
       "      <td>35-44</td>\n",
       "      <td>4.0</td>\n",
       "    </tr>\n",
       "    <tr>\n",
       "      <th>4</th>\n",
       "      <td>AD</td>\n",
       "      <td>1996</td>\n",
       "      <td>m</td>\n",
       "      <td>45-54</td>\n",
       "      <td>1.0</td>\n",
       "    </tr>\n",
       "    <tr>\n",
       "      <th>5</th>\n",
       "      <td>AD</td>\n",
       "      <td>1996</td>\n",
       "      <td>m</td>\n",
       "      <td>55-64</td>\n",
       "      <td>0.0</td>\n",
       "    </tr>\n",
       "    <tr>\n",
       "      <th>6</th>\n",
       "      <td>AD</td>\n",
       "      <td>1996</td>\n",
       "      <td>m</td>\n",
       "      <td>65+</td>\n",
       "      <td>0.0</td>\n",
       "    </tr>\n",
       "  </tbody>\n",
       "</table>\n",
       "</div>"
      ],
      "text/plain": [
       "  country  year sex   ages  cases\n",
       "0      AD  1996   m   0-14    0.0\n",
       "1      AD  1996   m  15-24    0.0\n",
       "2      AD  1996   m  25-34    0.0\n",
       "3      AD  1996   m  35-44    4.0\n",
       "4      AD  1996   m  45-54    1.0\n",
       "5      AD  1996   m  55-64    0.0\n",
       "6      AD  1996   m    65+    0.0"
      ]
     },
     "execution_count": 2,
     "metadata": {},
     "output_type": "execute_result"
    }
   ],
   "source": [
    "df = pd.read_csv(\"../AnalysisData/tb_clean.csv\")\n",
    "df_head = str(df.head(7))\n",
    "df.head(7)"
   ]
  },
  {
   "cell_type": "markdown",
   "id": "ff263586",
   "metadata": {},
   "source": [
    "Opis oraz informacje o danych"
   ]
  },
  {
   "cell_type": "code",
   "execution_count": 3,
   "id": "3823454c",
   "metadata": {},
   "outputs": [
    {
     "name": "stdout",
     "output_type": "stream",
     "text": [
      "<class 'pandas.core.frame.DataFrame'>\n",
      "RangeIndex: 35513 entries, 0 to 35512\n",
      "Data columns (total 5 columns):\n",
      " #   Column   Non-Null Count  Dtype  \n",
      "---  ------   --------------  -----  \n",
      " 0   country  35513 non-null  object \n",
      " 1   year     35513 non-null  int64  \n",
      " 2   sex      35513 non-null  object \n",
      " 3   ages     35513 non-null  object \n",
      " 4   cases    35513 non-null  float64\n",
      "dtypes: float64(1), int64(1), object(3)\n",
      "memory usage: 1.4+ MB\n",
      "\n"
     ]
    }
   ],
   "source": [
    "# informacje o danych\n",
    "buffer = io.StringIO()\n",
    "df.info(buf=buffer)\n",
    "info = buffer.getvalue()\n",
    "print(info)"
   ]
  },
  {
   "cell_type": "code",
   "execution_count": 4,
   "id": "eaf61fec",
   "metadata": {},
   "outputs": [
    {
     "name": "stdout",
     "output_type": "stream",
     "text": [
      "               year         cases\n",
      "count  35513.000000  35513.000000\n",
      "mean    2002.019627    611.754315\n",
      "std        4.349940   3288.900135\n",
      "min     1980.000000      0.000000\n",
      "25%     1999.000000      4.000000\n",
      "50%     2002.000000     36.000000\n",
      "75%     2006.000000    244.000000\n",
      "max     2008.000000  90498.000000\n"
     ]
    }
   ],
   "source": [
    "# opis zmiennych numerycznych\n",
    "num = str(df.describe(include=[np.number]))\n",
    "print(num)"
   ]
  },
  {
   "cell_type": "code",
   "execution_count": 5,
   "id": "bfd37555",
   "metadata": {},
   "outputs": [
    {
     "name": "stdout",
     "output_type": "stream",
     "text": [
      "       country    sex   ages\n",
      "count    35513  35513  35513\n",
      "unique     212      2     10\n",
      "top         CA      m  45-54\n",
      "freq       420  17802   4789\n"
     ]
    }
   ],
   "source": [
    "# opis zmiennych nienumerycznych\n",
    "non_num = str(df.describe(include=[object]))\n",
    "print(non_num)"
   ]
  },
  {
   "cell_type": "markdown",
   "id": "2ae6bb4b",
   "metadata": {},
   "source": [
    "Utworzenie pliku tekstowego DataAppendix.txt oraz zapisanie do niego danych"
   ]
  },
  {
   "cell_type": "code",
   "execution_count": 6,
   "id": "6bcc6aca",
   "metadata": {},
   "outputs": [],
   "source": [
    "with open('../Documents/DataAppendix.txt', 'w') as file:\n",
    "    file.write(\"Data appendix dla przetworzonego pliku: tb_clean.csv\\n\\n\")\n",
    "    file.write(\"Head of data:\\n\")\n",
    "    file.write(df_head)\n",
    "    file.write(\"\\n\\nInformacje o danych:\\n\")\n",
    "    file.write(info)\n",
    "    file.write(\"\\n\\nOpis zmiennych numerycznych:\\n\")\n",
    "    file.write(num)\n",
    "    file.write(\"\\n\\nOpis zmiennych nienumerycznych:\\n\")\n",
    "    file.write(non_num)"
   ]
  },
  {
   "cell_type": "markdown",
   "id": "4b6a616d",
   "metadata": {},
   "source": [
    "Utworzenie wykresów i zapisanie ich do osobnych plików"
   ]
  },
  {
   "cell_type": "code",
   "execution_count": 7,
   "id": "bdf50c09",
   "metadata": {},
   "outputs": [
    {
     "data": {
      "image/png": "[encoded data removed]",
      "text/plain": [
       "<Figure size 432x288 with 1 Axes>"
      ]
     },
     "metadata": {
      "needs_background": "light"
     },
     "output_type": "display_data"
    },
    {
     "data": {
      "image/png": "[encoded data removed]",
      "text/plain": [
       "<Figure size 432x288 with 1 Axes>"
      ]
     },
     "metadata": {
      "needs_background": "light"
     },
     "output_type": "display_data"
    }
   ],
   "source": [
    "year_cases = df.groupby('year')['cases'].sum()\n",
    "fig1, ax1 = plt.subplots()\n",
    "fig1.suptitle('Suma zakażeń dla poszczególnych lat')\n",
    "ax1.plot(year_cases)\n",
    "ax1.grid()\n",
    "ax1.set_ylabel('Ilość zakażeń ($*10^6$)')\n",
    "ax1.set_xlabel('Rok')\n",
    "fig1.savefig('../Documents/plot_year_cases.png')\n",
    "\n",
    "sex_cases = df.groupby('sex')['cases'].sum()\n",
    "fig2, ax2 = plt.subplots()\n",
    "fig2.suptitle('Suma zakażeń dla poszczególnych płci')\n",
    "ax2.bar(['Kobiety', 'Mężczyźni'], sex_cases)\n",
    "ax2.grid()\n",
    "ax2.set_ylabel('Ilość zakażeń ($*10^7$)')\n",
    "ax2.set_xlabel('Płeć')\n",
    "fig2.savefig('../Documents/plot_sex_cases.png')"
   ]
  },
  {
   "cell_type": "code",
   "execution_count": null,
   "id": "1779a0ab",
   "metadata": {},
   "outputs": [],
   "source": []
  }
 ],
 "metadata": {
  "kernelspec": {
   "display_name": "Python 3",
   "language": "python",
   "name": "python3"
  },
  "language_info": {
   "codemirror_mode": {
    "name": "ipython",
    "version": 3
   },
   "file_extension": ".py",
   "mimetype": "text/x-python",
   "name": "python",
   "nbconvert_exporter": "python",
   "pygments_lexer": "ipython3",
   "version": "3.9.4"
  }
 },
 "nbformat": 4,
 "nbformat_minor": 5
}
