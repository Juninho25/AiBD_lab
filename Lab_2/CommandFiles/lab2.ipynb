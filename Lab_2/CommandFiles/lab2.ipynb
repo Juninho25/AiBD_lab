{
 "cells": [
  {
   "cell_type": "code",
   "execution_count": 1,
   "id": "927acc7a",
   "metadata": {},
   "outputs": [],
   "source": [
    "import pandas as pd"
   ]
  },
  {
   "cell_type": "markdown",
   "id": "22ad704e",
   "metadata": {},
   "source": [
    "# Działania na oryginalnym pliku"
   ]
  },
  {
   "cell_type": "code",
   "execution_count": 2,
   "id": "6a39837a",
   "metadata": {},
   "outputs": [],
   "source": [
    "# Wczytanie oryginalnego pliku\n",
    "tb = pd.read_csv(\"../OriginalData/tb.csv\")\n",
    "\n",
    "# Zmiana nazwy pierwszej kolumny\n",
    "tb = tb.rename(columns={\"iso2\": \"country\"})\n",
    "\n",
    "# Usunięcie niepotrzebnego członu w nazwach kolumn z wiekiem oraz płcią\n",
    "tb = tb.rename(columns=lambda x: x.replace('new_sp_', ''))\n",
    "\n",
    "# Usunięcie wierszy, które w kolumnach 'country' oraz 'new_sp' zawierają wartości NaN\n",
    "tb = tb.dropna(subset=['country', 'new_sp'])\n",
    "\n",
    "# Usunięcie niepotrzebnej kolumny 'new_sp'\n",
    "tb = tb.drop(['new_sp'], axis=1)"
   ]
  },
  {
   "cell_type": "markdown",
   "id": "fd49dde9",
   "metadata": {},
   "source": [
    "# Melting"
   ]
  },
  {
   "cell_type": "code",
   "execution_count": 3,
   "id": "1ec5feb3",
   "metadata": {},
   "outputs": [],
   "source": [
    "# Przeprowadzenie meltingu, czyli zmiana konstrukcji danych na czytelniejsze oraz bardziej przejrzyste\n",
    "tb_melted = pd.melt(tb, id_vars=[\"country\", \"year\"], var_name='column', value_name='cases').dropna()\n",
    "\n",
    "# Sortowanie po skrótach nazw państw w celu otrzymania kolejności alfabetycznej\n",
    "tb_melted = tb_melted.sort_values(by=['country', 'year'])"
   ]
  },
  {
   "cell_type": "markdown",
   "id": "3e7b2891",
   "metadata": {},
   "source": [
    "# Tidying"
   ]
  },
  {
   "cell_type": "code",
   "execution_count": 4,
   "id": "54270058",
   "metadata": {},
   "outputs": [],
   "source": [
    "# Utworzenie słownika do łatwiejszej zamiany zapisu przedziału wiekowego\n",
    "rdict = {\n",
    "    \"04\":\"0-4\",\n",
    "    \"514\":\"5-14\",\n",
    "    \"014\":\"0-14\",\n",
    "    \"1524\":\"15-24\",\n",
    "    \"2534\":\"25-34\",\n",
    "    \"3544\":\"35-44\",\n",
    "    \"4554\":\"45-54\",\n",
    "    \"5564\":\"55-64\",\n",
    "    \"65\":\"65+\"\n",
    "    }\n",
    "\n",
    "# Odczytanie płci na podstawie pierwszego znaku w kolumnie 'column'\n",
    "sex = tb_melted['column'].str[:1]\n",
    "\n",
    "# Usunięcie pierwszego znaku z kolumny 'column' po jego wcześniejszym odczytaniu i w celu odczytania wieku\n",
    "tb_melted['column'] = tb_melted['column'].str[1:]\n",
    "\n",
    "# Zamiana przedziałów wiekowych na czytelniejsze na podstawie wcześniej utworzonego słownika\n",
    "ages = tb_melted['column'].replace(rdict)\n",
    "\n",
    "# Utworzenie dwóch dodatkowych kolumn zawierających informacje osobno o płci oraz przedziale wiekowym\n",
    "tb_melted.insert(2, 'sex', sex)\n",
    "tb_melted.insert(3, 'ages', ages)\n",
    "\n",
    "# Usunięcie niepotrzebnej kolumny 'column'\n",
    "tb_clean = tb_melted.drop(['column'], axis=1)\n",
    "\n",
    "# Zapisanie odpowiednio przetworzonych danych do pliku\n",
    "tb_clean.to_csv('../AnalysisData/tb_clean.csv', index=False)"
   ]
  },
  {
   "cell_type": "code",
   "execution_count": null,
   "id": "5ca9898d",
   "metadata": {},
   "outputs": [],
   "source": []
  }
 ],
 "metadata": {
  "kernelspec": {
   "display_name": "Python 3",
   "language": "python",
   "name": "python3"
  },
  "language_info": {
   "codemirror_mode": {
    "name": "ipython",
    "version": 3
   },
   "file_extension": ".py",
   "mimetype": "text/x-python",
   "name": "python",
   "nbconvert_exporter": "python",
   "pygments_lexer": "ipython3",
   "version": "3.9.4"
  }
 },
 "nbformat": 4,
 "nbformat_minor": 5
}
